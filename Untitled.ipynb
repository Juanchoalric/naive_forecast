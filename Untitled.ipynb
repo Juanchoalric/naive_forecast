{
 "cells": [
  {
   "cell_type": "code",
   "execution_count": 54,
   "metadata": {},
   "outputs": [],
   "source": [
    "def devolver_vuelto(v):\n",
    "    \"\"\"\"\"\"\n",
    "    n = 0\n",
    "    acum = 0\n",
    "    i = 0\n",
    "    vuelto = []\n",
    "    monedas = [500, 200, 100, 50, 20, 10, 5, 1]\n",
    "    while (acum <= v) and (i < len(monedas)):\n",
    "        aux = acum + monedas[i]\n",
    "        if aux <= v:\n",
    "            acum += monedas[i]\n",
    "            n += 1\n",
    "            vuelto.append(monedas[i])\n",
    "        else:\n",
    "            i += 1\n",
    "    if (i <= len(monedas)):\n",
    "        return n , vuelto\n",
    "    else:\n",
    "        return \"imposible\""
   ]
  },
  {
   "cell_type": "code",
   "execution_count": 56,
   "metadata": {},
   "outputs": [
    {
     "data": {
      "text/plain": [
       "(7, [500, 200, 100, 50, 20, 5, 1])"
      ]
     },
     "execution_count": 56,
     "metadata": {},
     "output_type": "execute_result"
    }
   ],
   "source": [
    "devolver_vuelto(876)"
   ]
  },
  {
   "cell_type": "markdown",
   "metadata": {},
   "source": [
    "### "
   ]
  },
  {
   "cell_type": "code",
   "execution_count": null,
   "metadata": {},
   "outputs": [],
   "source": []
  }
 ],
 "metadata": {
  "kernelspec": {
   "display_name": "Python 3",
   "language": "python",
   "name": "python3"
  },
  "language_info": {
   "codemirror_mode": {
    "name": "ipython",
    "version": 3
   },
   "file_extension": ".py",
   "mimetype": "text/x-python",
   "name": "python",
   "nbconvert_exporter": "python",
   "pygments_lexer": "ipython3",
   "version": "3.7.9"
  }
 },
 "nbformat": 4,
 "nbformat_minor": 4
}
